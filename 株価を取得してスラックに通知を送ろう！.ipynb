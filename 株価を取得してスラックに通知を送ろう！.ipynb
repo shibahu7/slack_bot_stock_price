{
 "cells": [
  {
   "cell_type": "code",
   "execution_count": 1,
   "id": "17350018",
   "metadata": {},
   "outputs": [],
   "source": [
    "using PyCall"
   ]
  },
  {
   "cell_type": "markdown",
   "id": "df2ebe14",
   "metadata": {},
   "source": [
    "# スクレイピングしていい？\n",
    "\n",
    "参考　\n",
    "\n",
    "- [Pythonでスクレイピングのルール(robots.txt)をチェックするツールを作る](https://qiita.com/Broccolingual/items/aa1f48454b9972b82d63)"
   ]
  },
  {
   "cell_type": "code",
   "execution_count": 2,
   "id": "cfd70c44",
   "metadata": {},
   "outputs": [
    {
     "name": "stdout",
     "output_type": "stream",
     "text": [
      "true"
     ]
    }
   ],
   "source": [
    "rob = pyimport(\"urllib.robotparser\")\n",
    "\n",
    "rp = rob.RobotFileParser()\n",
    "rp.set_url(\"https://www.google.com/finance/robots.txt\")\n",
    "rp.read()\n",
    "\n",
    "# robots.txtの情報から調査したいURL、User-Agentでクロール可能かを調べる\n",
    "user_agent = \"*\"\n",
    "url = \"https://www.google.com/finance/quote/*\"\n",
    "result = rp.can_fetch(user_agent, url)\n",
    "print(result)"
   ]
  },
  {
   "cell_type": "markdown",
   "id": "21f7c016",
   "metadata": {},
   "source": [
    "# web画面スクレイピング\n",
    "\n",
    "- [黒木さん gist](https://nbviewer.org/gist/genkuroki/c26f22d3a06a69f917fc98bb07c5c90c)"
   ]
  },
  {
   "cell_type": "code",
   "execution_count": 3,
   "id": "139df23e",
   "metadata": {},
   "outputs": [
    {
     "data": {
      "text/plain": [
       "PyObject <module 'requests' from 'C:\\\\Users\\\\salzl\\\\.julia\\\\conda\\\\3\\\\lib\\\\site-packages\\\\requests\\\\__init__.py'>"
      ]
     },
     "execution_count": 3,
     "metadata": {},
     "output_type": "execute_result"
    }
   ],
   "source": [
    "bs4 = pyimport(\"bs4\")\n",
    "requests = pyimport(\"requests\")"
   ]
  },
  {
   "cell_type": "code",
   "execution_count": 4,
   "id": "8fbf4e45",
   "metadata": {},
   "outputs": [
    {
     "data": {
      "text/plain": [
       "Dict{String, Vector{String}} with 3 entries:\n",
       "  \"voo\"     => [\"https://www.google.com/finance/quote/VOO:NYSEARCA?hl=ja%2Frobo…\n",
       "  \"nikkei\"  => [\"https://www.google.com/finance/quote/NI225:INDEXNIKKEI?hl=ja\"]\n",
       "  \"usd_jpy\" => [\"https://www.google.com/finance/quote/USD-JPY?hl=ja%2Frobots.tx…"
      ]
     },
     "execution_count": 4,
     "metadata": {},
     "output_type": "execute_result"
    }
   ],
   "source": [
    "url_dict = Dict(\n",
    "    \"nikkei\" => [\n",
    "        \"https://www.google.com/finance/quote/NI225:INDEXNIKKEI?hl=ja\"\n",
    "    ],\n",
    "    \"voo\" => [\n",
    "         \"https://www.google.com/finance/quote/VOO:NYSEARCA?hl=ja%2Frobots.txt\"\n",
    "    ],\n",
    "    \"usd_jpy\" => [\n",
    "        \"https://www.google.com/finance/quote/USD-JPY?hl=ja%2Frobots.txt\"\n",
    "    ]\n",
    ")"
   ]
  },
  {
   "cell_type": "code",
   "execution_count": 5,
   "id": "dd884426",
   "metadata": {},
   "outputs": [
    {
     "data": {
      "text/plain": [
       "\"\\$402.92\""
      ]
     },
     "execution_count": 5,
     "metadata": {},
     "output_type": "execute_result"
    }
   ],
   "source": [
    "response = requests.get(url_dict[\"voo\"][1])\n",
    "soup = bs4.BeautifulSoup(response.content)\n",
    "soup.select(\".kf1m0 div\")[1].text"
   ]
  },
  {
   "cell_type": "code",
   "execution_count": 6,
   "id": "868edf1e",
   "metadata": {},
   "outputs": [
    {
     "data": {
      "text/plain": [
       "\"Pre-market:\\$402.60(0.079%)-0.32\""
      ]
     },
     "execution_count": 6,
     "metadata": {},
     "output_type": "execute_result"
    }
   ],
   "source": [
    "soup.select(\".ygUjEc\")[1].text"
   ]
  },
  {
   "cell_type": "code",
   "execution_count": 7,
   "id": "20504933",
   "metadata": {},
   "outputs": [
    {
     "name": "stdout",
     "output_type": "stream",
     "text": [
      "voo : $402.92\n",
      " Pre-market:$402.60(0.079%)-0.32\n",
      "nikkei : 26,843.49\n",
      " 4月13日, 15:15:02 GMT+9 · INDEXNIKKEI · 免責条項\n",
      "usd_jpy : 125.7885\n",
      " Apr 13, 1:27:25 PM UTC · Disclaimer\n"
     ]
    }
   ],
   "source": [
    "# メッセージ作成\n",
    "msg = \"\"\n",
    "for ( ticker, url ) in url_dict\n",
    "    response = requests.get(url_dict[ticker][1])\n",
    "    soup = bs4.BeautifulSoup(response.content)\n",
    "    \n",
    "    msg *= \"$ticker : \"\n",
    "    # 株価\n",
    "    msg *= soup.select(\".kf1m0 div\")[1].text * \"\\n \"\n",
    "    # 日付\n",
    "    msg *= soup.select(\".ygUjEc\")[1].text * \"\\n\"\n",
    "end\n",
    "print(msg)"
   ]
  },
  {
   "cell_type": "markdown",
   "id": "59d73b3e",
   "metadata": {},
   "source": [
    "# slackに通知\n",
    "\n",
    "- [Slack API を使用してメッセージを投稿する](https://zenn.dev/kou_pg_0131/articles/slack-api-post-message)"
   ]
  },
  {
   "cell_type": "code",
   "execution_count": 8,
   "id": "ca0681f6",
   "metadata": {},
   "outputs": [
    {
     "data": {
      "text/plain": [
       "\"curl -X POST 'https://slack.com/api/chat.postMessage' -d 'token=TOKEN' -d 'channel=#株価' -d 'text=*テキスト*'\\n\""
      ]
     },
     "execution_count": 8,
     "metadata": {},
     "output_type": "execute_result"
    }
   ],
   "source": [
    "\"\"\"\n",
    "curl -X POST 'https://slack.com/api/chat.postMessage' \\\n",
    "-d 'token=TOKEN' \\\n",
    "-d 'channel=#株価' \\\n",
    "-d 'text=*テキスト*'\n",
    "\"\"\""
   ]
  },
  {
   "cell_type": "code",
   "execution_count": 9,
   "id": "889dbc2e",
   "metadata": {},
   "outputs": [
    {
     "data": {
      "text/plain": [
       "\"\""
      ]
     },
     "execution_count": 9,
     "metadata": {},
     "output_type": "execute_result"
    }
   ],
   "source": [
    "using HTTP\n",
    "\n",
    "TOKEN = \"\""
   ]
  },
  {
   "cell_type": "code",
   "execution_count": 10,
   "id": "aceac1aa",
   "metadata": {},
   "outputs": [
    {
     "name": "stdout",
     "output_type": "stream",
     "text": [
      "{\"ok\":false,\"error\":\"not_authed\"}\n"
     ]
    }
   ],
   "source": [
    "params = Dict(\n",
    "    \"channel\" => \"#株価\",\n",
    "    \"text\" => \"*テキスト*\"\n",
    ")\n",
    "\n",
    "headers = Dict(\n",
    "    \"Authorization\" => \"Bearer $TOKEN\",\n",
    ")\n",
    "\n",
    "# 書類一覧APIの呼び出し\n",
    "res = HTTP.post(\n",
    "    \"https://slack.com/api/chat.postMessage\",\n",
    "    headers;\n",
    "    require_ssl_verification = false,\n",
    "    query = params,\n",
    ")\n",
    "\n",
    "# レスポンスの表示\n",
    "println( String( res.body ) )"
   ]
  },
  {
   "cell_type": "markdown",
   "id": "a9362914",
   "metadata": {},
   "source": [
    "# GitHub Actions で使うで"
   ]
  },
  {
   "cell_type": "markdown",
   "id": "5644ab67",
   "metadata": {},
   "source": [
    "- [Git Hub Actions入門](https://zenn.dev/hashito/articles/7c292f966c0b59)\n",
    "- [GitHub Actions ワークフローで処理を定期実行する方法](https://gotohayato.com/content/514/)\n",
    "- [ゴマちゃん　リポジトリ](https://github.com/terasakisatoshi/MyWorkflow.jl)"
   ]
  },
  {
   "cell_type": "markdown",
   "id": "656e3bc2",
   "metadata": {},
   "source": [
    "# julia 文法"
   ]
  },
  {
   "cell_type": "code",
   "execution_count": 11,
   "id": "b21900ae",
   "metadata": {
    "code_folding": []
   },
   "outputs": [
    {
     "name": "stdout",
     "output_type": "stream",
     "text": [
      "(i, j) = (\"voo\", [\"https://www.google.com/finance/quote/VOO:NYSEARCA?hl=ja%2Frobots.txt\"])\n",
      "(i, j) = (\"nikkei\", [\"https://www.google.com/finance/quote/NI225:INDEXNIKKEI?hl=ja/robots.txt\"])\n"
     ]
    }
   ],
   "source": [
    "# dict の使い方\n",
    "robots_txt_url = Dict(\n",
    "    \"nikkei\" => [\n",
    "        \"https://www.google.com/finance/quote/NI225:INDEXNIKKEI?hl=ja/robots.txt\"\n",
    "    ],\n",
    "    \"voo\" => [\n",
    "        \"https://www.google.com/finance/quote/VOO:NYSEARCA?hl=ja%2Frobots.txt\"\n",
    "    ]\n",
    ")\n",
    "\n",
    "for (i,j) in robots_txt_url\n",
    "    @show i,j\n",
    "end"
   ]
  }
 ],
 "metadata": {
  "kernelspec": {
   "display_name": "Julia 1.7.0",
   "language": "julia",
   "name": "julia-1.7"
  },
  "language_info": {
   "file_extension": ".jl",
   "mimetype": "application/julia",
   "name": "julia",
   "version": "1.7.0"
  },
  "toc": {
   "base_numbering": 1,
   "nav_menu": {},
   "number_sections": true,
   "sideBar": true,
   "skip_h1_title": false,
   "title_cell": "Table of Contents",
   "title_sidebar": "Contents",
   "toc_cell": false,
   "toc_position": {},
   "toc_section_display": true,
   "toc_window_display": false
  },
  "varInspector": {
   "cols": {
    "lenName": 16,
    "lenType": 16,
    "lenVar": 40
   },
   "kernels_config": {
    "python": {
     "delete_cmd_postfix": "",
     "delete_cmd_prefix": "del ",
     "library": "var_list.py",
     "varRefreshCmd": "print(var_dic_list())"
    },
    "r": {
     "delete_cmd_postfix": ") ",
     "delete_cmd_prefix": "rm(",
     "library": "var_list.r",
     "varRefreshCmd": "cat(var_dic_list()) "
    }
   },
   "types_to_exclude": [
    "module",
    "function",
    "builtin_function_or_method",
    "instance",
    "_Feature"
   ],
   "window_display": false
  }
 },
 "nbformat": 4,
 "nbformat_minor": 5
}
